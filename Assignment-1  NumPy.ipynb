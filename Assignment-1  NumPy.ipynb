{
 "cells": [
  {
   "cell_type": "code",
   "execution_count": 1,
   "id": "9cc41612",
   "metadata": {},
   "outputs": [],
   "source": [
    "import numpy as np"
   ]
  },
  {
   "cell_type": "markdown",
   "id": "16dbf003",
   "metadata": {},
   "source": [
    "###  1. Create a null vector of size 10 but the fifth value which is 1."
   ]
  },
  {
   "cell_type": "code",
   "execution_count": 4,
   "id": "42f9c868",
   "metadata": {},
   "outputs": [],
   "source": [
    "z = np.zeros(10)"
   ]
  },
  {
   "cell_type": "code",
   "execution_count": 6,
   "id": "0fdf598a",
   "metadata": {},
   "outputs": [],
   "source": [
    "z[4] = 1"
   ]
  },
  {
   "cell_type": "code",
   "execution_count": 7,
   "id": "773790f7",
   "metadata": {},
   "outputs": [
    {
     "data": {
      "text/plain": [
       "array([0., 0., 0., 0., 1., 0., 0., 0., 0., 0.])"
      ]
     },
     "execution_count": 7,
     "metadata": {},
     "output_type": "execute_result"
    }
   ],
   "source": [
    "z"
   ]
  },
  {
   "cell_type": "markdown",
   "id": "f812e0e1",
   "metadata": {},
   "source": [
    "###  2. Create a vector with values ranging from 10 to 49."
   ]
  },
  {
   "cell_type": "code",
   "execution_count": 10,
   "id": "90f2b44f",
   "metadata": {},
   "outputs": [],
   "source": [
    "x = np.arange(10,50)"
   ]
  },
  {
   "cell_type": "code",
   "execution_count": 11,
   "id": "c50d9d43",
   "metadata": {},
   "outputs": [
    {
     "data": {
      "text/plain": [
       "array([10, 11, 12, 13, 14, 15, 16, 17, 18, 19, 20, 21, 22, 23, 24, 25, 26,\n",
       "       27, 28, 29, 30, 31, 32, 33, 34, 35, 36, 37, 38, 39, 40, 41, 42, 43,\n",
       "       44, 45, 46, 47, 48, 49])"
      ]
     },
     "execution_count": 11,
     "metadata": {},
     "output_type": "execute_result"
    }
   ],
   "source": [
    "x"
   ]
  },
  {
   "cell_type": "markdown",
   "id": "d37f1657",
   "metadata": {},
   "source": [
    "### 3. Create a 3x3 matrix with values ranging from 0 to 8"
   ]
  },
  {
   "cell_type": "code",
   "execution_count": 13,
   "id": "47ee40ad",
   "metadata": {},
   "outputs": [],
   "source": [
    "y = np.arange(0,9).reshape(3,3)"
   ]
  },
  {
   "cell_type": "code",
   "execution_count": 14,
   "id": "df799e37",
   "metadata": {},
   "outputs": [
    {
     "data": {
      "text/plain": [
       "array([[0, 1, 2],\n",
       "       [3, 4, 5],\n",
       "       [6, 7, 8]])"
      ]
     },
     "execution_count": 14,
     "metadata": {},
     "output_type": "execute_result"
    }
   ],
   "source": [
    "y"
   ]
  },
  {
   "cell_type": "markdown",
   "id": "215c00f6",
   "metadata": {},
   "source": [
    "### 4. Find indices of non-zero elements from [1,2,0,0,4,0]"
   ]
  },
  {
   "cell_type": "code",
   "execution_count": 19,
   "id": "18fae272",
   "metadata": {},
   "outputs": [],
   "source": [
    "a = [1,2,0,0,4,0]"
   ]
  },
  {
   "cell_type": "code",
   "execution_count": 25,
   "id": "8a60dbab",
   "metadata": {},
   "outputs": [],
   "source": [
    "def non_zero(lst):\n",
    "    n_z = []\n",
    "    n_z_i = []\n",
    "    for i in range(len(lst)):\n",
    "        if lst[i] != 0:\n",
    "            n_z.append(lst[i])\n",
    "            n_z_i.append(i)\n",
    "    print('The non zero elements from given input is : ',n_z)\n",
    "    print('the non zero element index from given input is : ',n_z_i)\n",
    "    return n_z, n_z_i"
   ]
  },
  {
   "cell_type": "code",
   "execution_count": 26,
   "id": "ddef7be5",
   "metadata": {},
   "outputs": [
    {
     "name": "stdout",
     "output_type": "stream",
     "text": [
      "The non zero elements from given input is :  [1, 2, 4]\n",
      "the non zero element index from given input is :  [0, 1, 4]\n"
     ]
    }
   ],
   "source": [
    "b,c = non_zero(a)"
   ]
  },
  {
   "cell_type": "code",
   "execution_count": 28,
   "id": "4a1e990c",
   "metadata": {},
   "outputs": [
    {
     "name": "stdout",
     "output_type": "stream",
     "text": [
      "[1, 2, 4]\n",
      "[0, 1, 4]\n"
     ]
    }
   ],
   "source": [
    "print(b)\n",
    "print(c)"
   ]
  },
  {
   "cell_type": "markdown",
   "id": "95b3bc82",
   "metadata": {},
   "source": [
    "### 5. Create a 10x10 array with random values and find the minimum and maximum values."
   ]
  },
  {
   "cell_type": "code",
   "execution_count": 29,
   "id": "9a52d078",
   "metadata": {},
   "outputs": [],
   "source": [
    "p = np.random.rand(10,10)"
   ]
  },
  {
   "cell_type": "code",
   "execution_count": 30,
   "id": "1d4a6375",
   "metadata": {},
   "outputs": [
    {
     "data": {
      "text/plain": [
       "array([[0.92316029, 0.88585658, 0.61323361, 0.52101454, 0.92238624,\n",
       "        0.42074928, 0.49910864, 0.39586712, 0.80818461, 0.51722877],\n",
       "       [0.31370777, 0.96754046, 0.49657739, 0.20120677, 0.66716621,\n",
       "        0.0821497 , 0.16378276, 0.91985771, 0.49665325, 0.8457499 ],\n",
       "       [0.72751219, 0.81195663, 0.4208293 , 0.99637758, 0.7625382 ,\n",
       "        0.19825064, 0.25903235, 0.34308253, 0.77192913, 0.0075951 ],\n",
       "       [0.69824691, 0.5831496 , 0.82567637, 0.19304844, 0.59296457,\n",
       "        0.10432653, 0.40064766, 0.86054815, 0.57487988, 0.31338111],\n",
       "       [0.99592592, 0.20089943, 0.15726197, 0.9348104 , 0.39339617,\n",
       "        0.99977081, 0.5891156 , 0.38910129, 0.16787758, 0.61470723],\n",
       "       [0.29082873, 0.83263534, 0.91729532, 0.49260945, 0.21212094,\n",
       "        0.84532711, 0.92392002, 0.40031357, 0.04143174, 0.84339664],\n",
       "       [0.62150867, 0.70043703, 0.03709967, 0.13286754, 0.6641113 ,\n",
       "        0.01675459, 0.96832055, 0.21466117, 0.84962639, 0.92527158],\n",
       "       [0.4536019 , 0.9581899 , 0.67873776, 0.05730156, 0.1689281 ,\n",
       "        0.14326445, 0.07856116, 0.83102397, 0.61029857, 0.47107774],\n",
       "       [0.08726342, 0.80008658, 0.27055535, 0.47045046, 0.21552433,\n",
       "        0.97543394, 0.5215527 , 0.72851709, 0.17088434, 0.94356305],\n",
       "       [0.9269636 , 0.99643988, 0.29155157, 0.95617641, 0.16374796,\n",
       "        0.47616866, 0.83611928, 0.04306458, 0.56964701, 0.33252152]])"
      ]
     },
     "execution_count": 30,
     "metadata": {},
     "output_type": "execute_result"
    }
   ],
   "source": [
    "p"
   ]
  },
  {
   "cell_type": "code",
   "execution_count": 33,
   "id": "4f6f459f",
   "metadata": {},
   "outputs": [
    {
     "data": {
      "text/plain": [
       "0.9997708149617474"
      ]
     },
     "execution_count": 33,
     "metadata": {},
     "output_type": "execute_result"
    }
   ],
   "source": [
    "p_max = np.max(p)\n",
    "p_max"
   ]
  },
  {
   "cell_type": "code",
   "execution_count": 34,
   "id": "5f137d67",
   "metadata": {},
   "outputs": [
    {
     "data": {
      "text/plain": [
       "0.007595100589617876"
      ]
     },
     "execution_count": 34,
     "metadata": {},
     "output_type": "execute_result"
    }
   ],
   "source": [
    "p_min = np.min(p)\n",
    "p_min"
   ]
  },
  {
   "cell_type": "markdown",
   "id": "8f9abd88",
   "metadata": {},
   "source": [
    "### 6. Create a random vector of size 30 and find the mean value."
   ]
  },
  {
   "cell_type": "code",
   "execution_count": 40,
   "id": "2fc67ba3",
   "metadata": {},
   "outputs": [
    {
     "name": "stdout",
     "output_type": "stream",
     "text": [
      "[ 3 33 30 97 94  3 42 88 72 64  9 76 52  5 85 92 23 37 80 33 77 39 43 99\n",
      " 66 19  2 42 52 87]\n",
      "size :  30\n"
     ]
    }
   ],
   "source": [
    "q = np.random.randint(100,size=(30))\n",
    "print(q)\n",
    "print('size : ',len(q))"
   ]
  },
  {
   "cell_type": "code",
   "execution_count": 41,
   "id": "6cb18553",
   "metadata": {},
   "outputs": [
    {
     "data": {
      "text/plain": [
       "51.46666666666667"
      ]
     },
     "execution_count": 41,
     "metadata": {},
     "output_type": "execute_result"
    }
   ],
   "source": [
    "q_mean = np.mean(q)\n",
    "q_mean"
   ]
  },
  {
   "cell_type": "code",
   "execution_count": null,
   "id": "4c4c115d",
   "metadata": {},
   "outputs": [],
   "source": []
  }
 ],
 "metadata": {
  "kernelspec": {
   "display_name": "Python 3 (ipykernel)",
   "language": "python",
   "name": "python3"
  },
  "language_info": {
   "codemirror_mode": {
    "name": "ipython",
    "version": 3
   },
   "file_extension": ".py",
   "mimetype": "text/x-python",
   "name": "python",
   "nbconvert_exporter": "python",
   "pygments_lexer": "ipython3",
   "version": "3.9.12"
  }
 },
 "nbformat": 4,
 "nbformat_minor": 5
}
