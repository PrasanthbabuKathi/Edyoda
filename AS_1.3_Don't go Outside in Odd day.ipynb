{
 "cells": [
  {
   "cell_type": "markdown",
   "id": "cf2f4c7e",
   "metadata": {},
   "source": [
    "### Write a Python program to count the number of even and odd numbers from a series of numbers."
   ]
  },
  {
   "cell_type": "code",
   "execution_count": 4,
   "id": "aba282e9",
   "metadata": {},
   "outputs": [
    {
     "name": "stdout",
     "output_type": "stream",
     "text": [
      "the number of even numbers = 5\n",
      "the number of odd numbers = 4\n"
     ]
    }
   ],
   "source": [
    "sample_num = (1,2,3,4,5,6,7,8,9)\n",
    "\n",
    "even_sum = 0\n",
    "odd_sum = 0\n",
    "\n",
    "for i in sample_num:\n",
    "    if i%2:\n",
    "        even_sum+=1\n",
    "    else:\n",
    "        odd_sum+=1\n",
    "\n",
    "print('the number of even numbers =', even_sum)\n",
    "print('the number of odd numbers =', odd_sum)"
   ]
  },
  {
   "cell_type": "code",
   "execution_count": null,
   "id": "57a9d4bf",
   "metadata": {},
   "outputs": [],
   "source": []
  }
 ],
 "metadata": {
  "kernelspec": {
   "display_name": "Python 3 (ipykernel)",
   "language": "python",
   "name": "python3"
  },
  "language_info": {
   "codemirror_mode": {
    "name": "ipython",
    "version": 3
   },
   "file_extension": ".py",
   "mimetype": "text/x-python",
   "name": "python",
   "nbconvert_exporter": "python",
   "pygments_lexer": "ipython3",
   "version": "3.9.7"
  }
 },
 "nbformat": 4,
 "nbformat_minor": 5
}
