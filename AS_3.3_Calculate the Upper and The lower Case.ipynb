{
 "cells": [
  {
   "cell_type": "code",
   "execution_count": 1,
   "id": "b0da0277",
   "metadata": {},
   "outputs": [],
   "source": [
    "#Write a Python function that accepts a string and calculate the number of upper case letters and lower case letters.\n",
    "\n",
    "#Sample String : 'The quick Brow Fox'\n",
    "\n",
    "#Expected Output :\n",
    "\n",
    "#No. of Upper case characters : 3\n",
    "\n",
    "#No. of Lower case Characters : 12\n"
   ]
  },
  {
   "cell_type": "code",
   "execution_count": 2,
   "id": "e728fddd",
   "metadata": {},
   "outputs": [],
   "source": [
    "def upperlower(string):\n",
    "  \n",
    "    upper = 0\n",
    "    lower = 0\n",
    "  \n",
    "    for i in range(len(string)):\n",
    "          \n",
    "        # For lower letters\n",
    "        if (ord(string[i]) >= 97 and\n",
    "            ord(string[i]) <= 122):\n",
    "            lower += 1\n",
    "  \n",
    "        # For upper letters\n",
    "        elif (ord(string[i]) >= 65 and\n",
    "              ord(string[i]) <= 90):\n",
    "            upper += 1\n",
    "  \n",
    "    print('Upper case characters = ', upper)\n",
    "    print('Lower case characters = ', lower)\n",
    "    "
   ]
  },
  {
   "cell_type": "code",
   "execution_count": 3,
   "id": "ee00bf81",
   "metadata": {},
   "outputs": [
    {
     "name": "stdout",
     "output_type": "stream",
     "text": [
      "Upper case characters =  3\n",
      "Lower case characters =  12\n"
     ]
    }
   ],
   "source": [
    "upperlower('The quick Brow Fox')"
   ]
  },
  {
   "cell_type": "code",
   "execution_count": null,
   "id": "8c1f0164",
   "metadata": {},
   "outputs": [],
   "source": []
  }
 ],
 "metadata": {
  "kernelspec": {
   "display_name": "Python 3 (ipykernel)",
   "language": "python",
   "name": "python3"
  },
  "language_info": {
   "codemirror_mode": {
    "name": "ipython",
    "version": 3
   },
   "file_extension": ".py",
   "mimetype": "text/x-python",
   "name": "python",
   "nbconvert_exporter": "python",
   "pygments_lexer": "ipython3",
   "version": "3.9.7"
  }
 },
 "nbformat": 4,
 "nbformat_minor": 5
}
