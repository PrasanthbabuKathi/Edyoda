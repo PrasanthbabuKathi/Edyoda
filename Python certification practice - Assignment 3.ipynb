{
 "cells": [
  {
   "cell_type": "markdown",
   "id": "9a87ce0f",
   "metadata": {},
   "source": [
    "## itertools.combinations()"
   ]
  },
  {
   "cell_type": "code",
   "execution_count": 1,
   "id": "feb5f4d2",
   "metadata": {},
   "outputs": [
    {
     "name": "stdout",
     "output_type": "stream",
     "text": [
      "HACK 2\n",
      "A\n",
      "C\n",
      "H\n",
      "K\n",
      "AC\n",
      "AH\n",
      "AK\n",
      "CH\n",
      "CK\n",
      "HK\n"
     ]
    }
   ],
   "source": [
    "from itertools import combinations\n",
    "s , n  = input().split()\n",
    "for i in range(1, int(n)+1):\n",
    "    for j in combinations(sorted(s), i):\n",
    "        print(''.join(j))"
   ]
  },
  {
   "cell_type": "markdown",
   "id": "022b952d",
   "metadata": {},
   "source": [
    "## itertools.product()"
   ]
  },
  {
   "cell_type": "code",
   "execution_count": 2,
   "id": "4110acfb",
   "metadata": {},
   "outputs": [
    {
     "name": "stdout",
     "output_type": "stream",
     "text": [
      "1 2\n",
      "3 4\n",
      "(1, 3) (1, 4) (2, 3) (2, 4) "
     ]
    }
   ],
   "source": [
    "x,y=input().split(),input().split()\n",
    "for i in range(len(x)):\n",
    "    for j in range(len(y)):\n",
    "        print((int(x[i]),int(y[j])),end=' ')"
   ]
  },
  {
   "cell_type": "markdown",
   "id": "68857e56",
   "metadata": {},
   "source": [
    "## itertools.permutations()"
   ]
  },
  {
   "cell_type": "code",
   "execution_count": 3,
   "id": "b456ac60",
   "metadata": {},
   "outputs": [
    {
     "name": "stdout",
     "output_type": "stream",
     "text": [
      "HACK 2\n",
      "AC\n",
      "AH\n",
      "AK\n",
      "CA\n",
      "CH\n",
      "CK\n",
      "HA\n",
      "HC\n",
      "HK\n",
      "KA\n",
      "KC\n",
      "KH\n"
     ]
    }
   ],
   "source": [
    "from itertools import permutations\n",
    "s,n = input().split()\n",
    "print(*[''.join(i) for i in permutations(sorted(s),int(n))],sep='\\n')"
   ]
  }
 ],
 "metadata": {
  "kernelspec": {
   "display_name": "Python 3 (ipykernel)",
   "language": "python",
   "name": "python3"
  },
  "language_info": {
   "codemirror_mode": {
    "name": "ipython",
    "version": 3
   },
   "file_extension": ".py",
   "mimetype": "text/x-python",
   "name": "python",
   "nbconvert_exporter": "python",
   "pygments_lexer": "ipython3",
   "version": "3.9.7"
  }
 },
 "nbformat": 4,
 "nbformat_minor": 5
}
