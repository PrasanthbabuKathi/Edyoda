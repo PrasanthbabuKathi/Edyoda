{
 "cells": [
  {
   "cell_type": "code",
   "execution_count": 1,
   "id": "527977af",
   "metadata": {},
   "outputs": [],
   "source": [
    "#Write a Python program to square the elements of a list using map() function.\n",
    "\n",
    "\n",
    "#Sample List: [4, 5, 2, 9]\n",
    "\n",
    "#Square the elements of the list:\n",
    "\n",
    "#[16, 25, 4, 81]"
   ]
  },
  {
   "cell_type": "code",
   "execution_count": 2,
   "id": "354b5033",
   "metadata": {},
   "outputs": [
    {
     "name": "stdout",
     "output_type": "stream",
     "text": [
      "[16, 25, 4, 81]\n"
     ]
    }
   ],
   "source": [
    "list1 = [4, 5, 2, 9]\n",
    "\n",
    "result = map(lambda x : x**2, list1)\n",
    "print(list(result))"
   ]
  }
 ],
 "metadata": {
  "kernelspec": {
   "display_name": "Python 3 (ipykernel)",
   "language": "python",
   "name": "python3"
  },
  "language_info": {
   "codemirror_mode": {
    "name": "ipython",
    "version": 3
   },
   "file_extension": ".py",
   "mimetype": "text/x-python",
   "name": "python",
   "nbconvert_exporter": "python",
   "pygments_lexer": "ipython3",
   "version": "3.9.7"
  }
 },
 "nbformat": 4,
 "nbformat_minor": 5
}
