{
 "cells": [
  {
   "cell_type": "code",
   "execution_count": 1,
   "id": "699289cf",
   "metadata": {},
   "outputs": [],
   "source": [
    "#Write a Python program ---->\n",
    "\n",
    "#step 1: create a list L1 = [1,2,3,4,5]\n",
    "\n",
    "#step 2 : use L1 to make a list of tuples like below:\n",
    "\n",
    "#Expected Result : [(1, 1), (2, 4), (3, 9), (4, 16), (5, 25)]"
   ]
  },
  {
   "cell_type": "code",
   "execution_count": 2,
   "id": "d27cd6eb",
   "metadata": {},
   "outputs": [
    {
     "name": "stdout",
     "output_type": "stream",
     "text": [
      " the list of tupels is  [(1, 1), (2, 4), (3, 9), (4, 16), (5, 25)]\n"
     ]
    }
   ],
   "source": [
    "L1 = [1,2,3,4,5]\n",
    "indi = {}\n",
    "for i in L1:\n",
    "    indi[i] = i**2\n",
    "    \n",
    "    \n",
    "lst = [(k, v) for k, v in indi.items()]\n",
    "print(' the list of tupels is ', lst)"
   ]
  },
  {
   "cell_type": "code",
   "execution_count": null,
   "id": "3d264267",
   "metadata": {},
   "outputs": [],
   "source": []
  }
 ],
 "metadata": {
  "kernelspec": {
   "display_name": "Python 3 (ipykernel)",
   "language": "python",
   "name": "python3"
  },
  "language_info": {
   "codemirror_mode": {
    "name": "ipython",
    "version": 3
   },
   "file_extension": ".py",
   "mimetype": "text/x-python",
   "name": "python",
   "nbconvert_exporter": "python",
   "pygments_lexer": "ipython3",
   "version": "3.9.7"
  }
 },
 "nbformat": 4,
 "nbformat_minor": 5
}
