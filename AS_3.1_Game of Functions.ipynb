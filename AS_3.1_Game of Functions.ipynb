{
 "cells": [
  {
   "cell_type": "code",
   "execution_count": 1,
   "id": "0ffaf10a",
   "metadata": {},
   "outputs": [],
   "source": [
    "#  Write a Python function to sum all the numbers in a list.\n",
    "\n",
    "# Sample List : (8, 2, 3, 0, 7)\n",
    "\n",
    "# Expected Output : 20\n",
    "\n",
    "# Explanation:\n",
    "\n",
    "# Summation should like 8+2+3+0+7 = 20\n"
   ]
  },
  {
   "cell_type": "code",
   "execution_count": 2,
   "id": "282e54e8",
   "metadata": {},
   "outputs": [
    {
     "name": "stdout",
     "output_type": "stream",
     "text": [
      "Sum of all elements in given list:  20\n"
     ]
    }
   ],
   "source": [
    "list = [8, 2, 3, 0, 7]\n",
    "\n",
    "def sum_of_list(list, size):\n",
    "   if (size == 0):\n",
    "     return 0\n",
    "   else:\n",
    "     return list[size - 1] + sum_of_list(list, size - 1)\n",
    "     \n",
    "total = sum_of_list(list, len(list))\n",
    " \n",
    "print(\"Sum of all elements in given list: \", total)"
   ]
  },
  {
   "cell_type": "code",
   "execution_count": null,
   "id": "89d9e6aa",
   "metadata": {},
   "outputs": [],
   "source": []
  }
 ],
 "metadata": {
  "kernelspec": {
   "display_name": "Python 3 (ipykernel)",
   "language": "python",
   "name": "python3"
  },
  "language_info": {
   "codemirror_mode": {
    "name": "ipython",
    "version": 3
   },
   "file_extension": ".py",
   "mimetype": "text/x-python",
   "name": "python",
   "nbconvert_exporter": "python",
   "pygments_lexer": "ipython3",
   "version": "3.9.7"
  }
 },
 "nbformat": 4,
 "nbformat_minor": 5
}
